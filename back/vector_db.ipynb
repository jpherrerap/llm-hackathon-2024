{
 "cells": [
  {
   "cell_type": "code",
   "execution_count": 3,
   "metadata": {},
   "outputs": [
    {
     "data": {
      "text/plain": [
       "[Document(metadata={'answer': 'Los clientes tienen 30 días para devolver productos no utilizados.'}, page_content='¿Cuál es la política de devoluciones?'),\n",
       " Document(metadata={'answer': 'Aceptamos tarjetas de crédito, débito, PayPal y transferencia bancaria.'}, page_content='¿Cuáles son los métodos de pago aceptados?')]"
      ]
     },
     "execution_count": 3,
     "metadata": {},
     "output_type": "execute_result"
    }
   ],
   "source": [
    "from make_db import *\n",
    "\n",
    "vectorstore.similarity_search(\"¿Cuál es la política de devoluciones?\", k=2)"
   ]
  },
  {
   "cell_type": "code",
   "execution_count": 7,
   "metadata": {},
   "outputs": [
    {
     "data": {
      "text/plain": [
       "'¿Cuál es la política de devoluciones?'"
      ]
     },
     "execution_count": 7,
     "metadata": {},
     "output_type": "execute_result"
    }
   ],
   "source": [
    "# Import JSON from string\n",
    "string = \"\"\"\n",
    "[\n",
    "{\n",
    "    \"question\": \"¿Cuál es la política de devoluciones?\",\n",
    "    \"answer\": \"Los clientes tienen 30 días para devolver productos no utilizados.\"\n",
    "},\n",
    "{\n",
    "    \"question\": \"¿Cuáles son los métodos de pago aceptados?\",\n",
    "    \"answer\": \"Aceptamos tarjetas de crédito, débito, PayPal y transferencia bancaria.\"\n",
    "}\n",
    "]\n",
    "\"\"\"\n",
    "json_data = json.loads(string)\n",
    "json_data[0][\"question\"]"
   ]
  },
  {
   "cell_type": "code",
   "execution_count": null,
   "metadata": {},
   "outputs": [],
   "source": []
  }
 ],
 "metadata": {
  "kernelspec": {
   "display_name": "vue-chatbot",
   "language": "python",
   "name": "python3"
  },
  "language_info": {
   "codemirror_mode": {
    "name": "ipython",
    "version": 3
   },
   "file_extension": ".py",
   "mimetype": "text/x-python",
   "name": "python",
   "nbconvert_exporter": "python",
   "pygments_lexer": "ipython3",
   "version": "3.11.10"
  }
 },
 "nbformat": 4,
 "nbformat_minor": 2
}
