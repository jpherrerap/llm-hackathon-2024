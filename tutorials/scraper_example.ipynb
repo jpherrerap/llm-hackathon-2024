{
 "cells": [
  {
   "cell_type": "code",
   "execution_count": null,
   "metadata": {},
   "outputs": [],
   "source": [
    "import re\n",
    "from typing import List, Tuple\n",
    "from urllib.parse import urljoin\n",
    "\n",
    "import requests\n",
    "from bs4 import BeautifulSoup\n",
    "from langchain.agents import AgentType, initialize_agent\n",
    "from langchain.chat_models import ChatOpenAI\n",
    "from langchain.schema import HumanMessage, SystemMessage\n",
    "from langchain.tools import Tool\n",
    "from dotenv import load_dotenv\n",
    "import os\n",
    "\n",
    "load_dotenv()\n"
   ]
  },
  {
   "cell_type": "code",
   "execution_count": 4,
   "metadata": {},
   "outputs": [],
   "source": [
    "class FalabellaScraper:\n",
    "    def __init__(self, openai_api_key: str):\n",
    "        self.base_url = \"https://www.falabella.com/falabella-cl/page/\"\n",
    "        self.visited_urls = set()\n",
    "        self.results = []\n",
    "\n",
    "        # Initialize LangChain agent\n",
    "        llm = ChatOpenAI(temperature=0, model=\"gpt-3.5-turbo\", openai_api_key=openai_api_key)\n",
    "        tools = [\n",
    "            Tool(\n",
    "                name=\"Group Text\",\n",
    "                func=self._group_text,\n",
    "                description=\"Groups text under appropriate headers\",\n",
    "            )\n",
    "        ]\n",
    "        self.agent = initialize_agent(tools, llm, agent=AgentType.CHAT_ZERO_SHOT_REACT_DESCRIPTION, verbose=True)\n",
    "\n",
    "    def scrape(self, start_url: str) -> List[Tuple[str, str]]:\n",
    "        self._scrape_recursive(start_url)\n",
    "        return self.results\n",
    "    \n",
    "    def scrape_page(self, url: str) -> Tuple[str, str]:\n",
    "        response = requests.get(url, timeout=30)  # Add a 30-second timeout\n",
    "        soup = BeautifulSoup(response.text, 'html.parser')\n",
    "        text_content = soup.get_text(separator='\\n', strip=True)\n",
    "        grouped_text = self.agent.run(f\"Group the following text under appropriate headers:\\n\\n{text_content}\")\n",
    "        return url, grouped_text\n",
    "\n",
    "    def _scrape_recursive(self, url: str):\n",
    "        if url in self.visited_urls:\n",
    "            return\n",
    "\n",
    "        self.visited_urls.add(url)\n",
    "        response = requests.get(url, timeout=30)  # Add a 30-second timeout\n",
    "        soup = BeautifulSoup(response.text, 'html.parser')\n",
    "\n",
    "        # Extract text content\n",
    "        text_content = soup.get_text(separator='\\n', strip=True)\n",
    "\n",
    "        # Use LangChain agent to group text\n",
    "        grouped_text = self.agent.run(f\"Group the following text under appropriate headers:\\n\\n{text_content}\")\n",
    "        self.results.append((url, grouped_text))\n",
    "\n",
    "        # Find and follow links\n",
    "        for link in soup.find_all('a', href=True):\n",
    "            href = link['href']\n",
    "            full_url = urljoin(url, href)\n",
    "            if full_url.startswith(self.base_url) and full_url not in self.visited_urls:\n",
    "                self._scrape_recursive(full_url)\n",
    "\n",
    "    def _group_text(self, text: str) -> str:\n",
    "        # This is a placeholder for the actual grouping logic\n",
    "        # The LangChain agent will use this function to group the text\n",
    "        return text"
   ]
  },
  {
   "cell_type": "code",
   "execution_count": null,
   "metadata": {},
   "outputs": [],
   "source": [
    "start_url = \"https://www.falabella.com/falabella-cl/page/contactanos\"\n",
    "\n",
    "scraper = FalabellaScraper(openai_api_key=os.environ[\"OPENAI_API_KEY\"])\n",
    "\n",
    "\n"
   ]
  },
  {
   "cell_type": "code",
   "execution_count": null,
   "metadata": {},
   "outputs": [],
   "source": [
    "response = requests.get(\"https://www.falabella.com/falabella-cl/page/cambios-reemplazos\", timeout=30)  # Add a 30-second timeout\n",
    "soup = BeautifulSoup(response.text, 'html.parser')\n",
    "text_content = soup.get_text(separator='\\n', strip=True)\n",
    "print(text_content)\n",
    "# grouped_text = self.agent.run(f\"Group the following text under appropriate headers:\\n\\n{text_content}\")"
   ]
  },
  {
   "cell_type": "code",
   "execution_count": null,
   "metadata": {},
   "outputs": [],
   "source": [
    "results = scraper.scrape(start_url)\n",
    "print(results)"
   ]
  },
  {
   "cell_type": "code",
   "execution_count": null,
   "metadata": {},
   "outputs": [],
   "source": [
    "start_url = \"https://www.falabella.com/falabella-cl/page/contactanos\"\n",
    "\n",
    "scraper = FalabellaScraper(openai_api_key=os.environ[\"OPENAI_API_KEY\"])\n",
    "results = scraper.scrape(start_url)\n",
    "\n",
    "for url, grouped_text in results:\n",
    "    print(f\"URL: {url}\")\n",
    "    print(\"Grouped Text:\")\n",
    "    print(grouped_text)\n",
    "    print(\"-\" * 50)"
   ]
  }
 ],
 "metadata": {
  "kernelspec": {
   "display_name": "vue-chatbot",
   "language": "python",
   "name": "python3"
  },
  "language_info": {
   "codemirror_mode": {
    "name": "ipython",
    "version": 3
   },
   "file_extension": ".py",
   "mimetype": "text/x-python",
   "name": "python",
   "nbconvert_exporter": "python",
   "pygments_lexer": "ipython3",
   "version": "3.11.10"
  }
 },
 "nbformat": 4,
 "nbformat_minor": 2
}
